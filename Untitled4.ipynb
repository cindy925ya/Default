{
  "nbformat": 4,
  "nbformat_minor": 0,
  "metadata": {
    "colab": {
      "name": "Untitled4.ipynb",
      "provenance": [],
      "collapsed_sections": []
    },
    "kernelspec": {
      "name": "python3",
      "display_name": "Python 3"
    }
  },
  "cells": [
    {
      "cell_type": "code",
      "metadata": {
        "colab": {
          "base_uri": "https://localhost:8080/"
        },
        "id": "nZeHdGpC07ZL",
        "outputId": "e421832c-a6ee-4f56-a2d4-cd73fb57a834"
      },
      "source": [
        "!pip3 install numpy"
      ],
      "execution_count": 20,
      "outputs": [
        {
          "output_type": "stream",
          "text": [
            "Requirement already satisfied: numpy in /usr/local/lib/python3.7/dist-packages (1.19.5)\n"
          ],
          "name": "stdout"
        }
      ]
    },
    {
      "cell_type": "code",
      "metadata": {
        "id": "NhIdT15qyoaj"
      },
      "source": [
        "import numpy as np\r\n"
      ],
      "execution_count": 17,
      "outputs": []
    },
    {
      "cell_type": "code",
      "metadata": {
        "id": "ZtCNE0jhz8TU"
      },
      "source": [
        "dede = np.arange(20)"
      ],
      "execution_count": 26,
      "outputs": []
    },
    {
      "cell_type": "code",
      "metadata": {
        "colab": {
          "base_uri": "https://localhost:8080/"
        },
        "id": "6LfpHXEo1Zwi",
        "outputId": "8572fe43-c4e4-418f-c7b3-b968e53ece95"
      },
      "source": [
        "even = np.arange( 2 , 21 , 2 )\r\n",
        "print( '偶數: ' , even )"
      ],
      "execution_count": 28,
      "outputs": [
        {
          "output_type": "stream",
          "text": [
            "偶數:  [ 2  4  6  8 10 12 14 16 18 20]\n"
          ],
          "name": "stdout"
        }
      ]
    },
    {
      "cell_type": "code",
      "metadata": {
        "colab": {
          "base_uri": "https://localhost:8080/"
        },
        "id": "ZGp4bmnV-Bhp",
        "outputId": "d630e8ad-471b-453e-e0ae-c7c5b6ffef4e"
      },
      "source": [
        "odd = np.arange (3 , 20 , 3)\r\n",
        "print('奇數:',odd )"
      ],
      "execution_count": 30,
      "outputs": [
        {
          "output_type": "stream",
          "text": [
            "奇數: [ 3  6  9 12 15 18]\n"
          ],
          "name": "stdout"
        }
      ]
    }
  ]
}